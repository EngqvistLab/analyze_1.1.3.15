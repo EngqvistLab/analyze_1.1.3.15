{
 "cells": [
  {
   "cell_type": "markdown",
   "metadata": {},
   "source": [
    "This script clusters the sequences from the 1.1.3.15 enzyme class<br/><br/>Copyright (C) 2019  Martin Engqvist Lab<br/>This program is free software: you can redistribute it and/or modify<br/>it under the terms of the GNU General Public License as published by<br/>the Free Software Foundation, either version 3 of the License, or<br/>(at your option) any later version.<br/>This program is distributed in the hope that it will be useful,<br/>but WITHOUT ANY WARRANTY; without even the implied warranty of<br/>MERCHANTABILITY or FITNESS FOR A PARTICULAR PURPOSE.  See the<br/>GNU General Public License for more details.<br/>You should have received a copy of the GNU General Public License<br/>along with this program.  If not, see <http://www.gnu.org/licenses/>."
   ]
  },
  {
   "cell_type": "code",
   "execution_count": 2,
   "metadata": {
    "scrolled": true
   },
   "outputs": [
    {
     "name": "stdout",
     "output_type": "stream",
     "text": [
      "Standard variables loaded, you are good to go!\n"
     ]
    }
   ],
   "source": [
    "import os\n",
    "from dotenv import load_dotenv, find_dotenv\n",
    "from os.path import join, dirname, basename, exists, isdir\n",
    "\n",
    "### Load environmental variables from the project root directory ###\n",
    "# find .env automagically by walking up directories until it's found\n",
    "dotenv_path = find_dotenv()\n",
    "\n",
    "# load up the entries as environment variables\n",
    "load_dotenv(dotenv_path)\n",
    "\n",
    "# now you can get the variables using their names\n",
    "\n",
    "# Check whether a network drive has been specified\n",
    "DATABASE = os.environ.get(\"NETWORK_URL\")\n",
    "if DATABASE == 'None':\n",
    "    pass\n",
    "else:\n",
    "    pass\n",
    "    #mount network drive here\n",
    "\n",
    "# set up directory paths\n",
    "CURRENT_DIR = os.getcwd()\n",
    "PROJ = dirname(dotenv_path) # project root directory\n",
    "\n",
    "DATA = join(PROJ, 'data') #data directory\n",
    "RAW_EXTERNAL = join(DATA, 'raw_external') # external data raw directory\n",
    "RAW_INTERNAL = join(DATA, 'raw_internal') # internal data raw directory\n",
    "INTERMEDIATE = join(DATA, 'intermediate') # intermediate data directory\n",
    "FINAL = join(DATA, 'final') # final data directory\n",
    "\n",
    "RESULTS = join(PROJ, 'results') # output directory\n",
    "FIGURES = join(RESULTS, 'figures') # figure output directory\n",
    "PICTURES = join(RESULTS, 'pictures') # picture output directory\n",
    "\n",
    "\n",
    "# make folders specific for certain data\n",
    "folder_name = ''\n",
    "if folder_name != '':\n",
    "    #make folders if they don't exist\n",
    "    if not exists(join(RAW_EXTERNAL, folder_name)):\n",
    "        os.makedirs(join(RAW_EXTERNAL, folder_name))\n",
    "\n",
    "    if not exists(join(INTERMEDIATE, folder_name)):\n",
    "        os.makedirs(join(INTERMEDIATE, folder_name))\n",
    "\n",
    "    if not exists(join(FINAL, folder_name)):\n",
    "        os.makedirs(join(FINAL, folder_name))\n",
    "\n",
    "print('Standard variables loaded, you are good to go!')"
   ]
  },
  {
   "cell_type": "code",
   "execution_count": 3,
   "metadata": {},
   "outputs": [],
   "source": [
    "from dnapy.resources import fasta\n",
    "\n",
    "import subprocess\n",
    "from seqsample import seqsample\n",
    "from seqsample import distance\n",
    "import logging\n",
    "import sys\n",
    "import multiprocessing\n",
    "import types\n",
    "\n",
    "from Bio import SeqIO\n",
    "from Bio.Seq import Seq"
   ]
  },
  {
   "cell_type": "markdown",
   "metadata": {},
   "source": [
    "# Analysis for BRENDA 2019.2"
   ]
  },
  {
   "cell_type": "markdown",
   "metadata": {},
   "source": [
    "#### Load all sequences from 1.1.3.15"
   ]
  },
  {
   "cell_type": "code",
   "execution_count": 4,
   "metadata": {},
   "outputs": [
    {
     "name": "stdout",
     "output_type": "stream",
     "text": [
      "There are 1966 sequences in the 1.1.3.15 enzyme class.\n"
     ]
    }
   ],
   "source": [
    "EC = '1.1.3.15'\n",
    "\n",
    "fasta_filepath = join(RAW_EXTERNAL, 'brenda_2019_2', 'sequence_data', '%s.fasta' % EC)\n",
    "\n",
    "fasta = SeqIO.parse(fasta_filepath, \"fasta\")\n",
    "\n",
    "counter = 0\n",
    "for record in fasta:\n",
    "    counter += 1\n",
    "\n",
    "print('There are %s sequences in the %s enzyme class.' % (counter, EC))\n",
    "\n"
   ]
  },
  {
   "cell_type": "markdown",
   "metadata": {},
   "source": [
    "#### Now perform the clustering "
   ]
  },
  {
   "cell_type": "code",
   "execution_count": 5,
   "metadata": {},
   "outputs": [],
   "source": [
    "# setup the logger\n",
    "seqsample.setup_logfile()\n",
    "\n",
    "# write some initial information\n",
    "seqsample.initial_info()\n",
    "\n",
    "# define filepaths\n",
    "seqsample.define_paths()\n",
    "\n",
    "# create folders\n",
    "seqsample.setup_folders()\n",
    "\n",
    "# build blast db\n",
    "db_filepath = join(INTERMEDIATE, 'BRENDA_for_paper', 'my_prot_blast_db')\n",
    "seqsample.build_blast_db(infile=fasta_filepath, outfile=db_filepath)\n",
    "\n",
    "# perform all vs all blast\n",
    "blast_outfile = join(INTERMEDIATE, 'BRENDA_for_paper', 'all-vs-all.tsv')\n",
    "seqsample.blast_fasta_file(db_file=db_filepath, fasta_file=fasta_filepath, outfile=blast_outfile, cores=4, outformat=6)\n"
   ]
  },
  {
   "cell_type": "markdown",
   "metadata": {},
   "source": [
    "#### Use the BLAST data to build a network and cluster the sequences"
   ]
  },
  {
   "cell_type": "code",
   "execution_count": 6,
   "metadata": {},
   "outputs": [],
   "source": [
    "# make an abc file based on evalue\n",
    "abc_file = join(INTERMEDIATE, 'BRENDA_for_paper', 'all-vs-all.abc')\n",
    "seqsample.blast_to_abc_evalue(infile=blast_outfile, outfile=abc_file)\n",
    "\n",
    "# build a network\n",
    "mci_file = join(INTERMEDIATE, 'BRENDA_for_paper', 'seq.mci')\n",
    "tab_file = join(INTERMEDIATE, 'BRENDA_for_paper', 'seq.tab')\n",
    "seqsample.build_network(infile=abc_file, mci_file=mci_file, tab_file=tab_file)\n",
    "\n",
    "# cluster the sequences using different granularity settings\n",
    "seqsample.cluster(mci_file=mci_file, \n",
    "                  tab_file=tab_file, \n",
    "                  out_folder=join(INTERMEDIATE, 'BRENDA_for_paper'), \n",
    "                  granularity_levels=('1.4', '2', '4', '6'), \n",
    "                  cores=4)\n"
   ]
  },
  {
   "cell_type": "markdown",
   "metadata": {},
   "source": [
    "#### Build fasta files and make multiple sequence alignments from the sequences "
   ]
  },
  {
   "cell_type": "code",
   "execution_count": 8,
   "metadata": {
    "scrolled": true
   },
   "outputs": [],
   "source": [
    "# make fasta files\n",
    "seqsample.make_cluster_fasta_files(cluster_infile=join(INTERMEDIATE, 'BRENDA_for_paper', 'dump.seq.mci.I40'), \n",
    "                                   sequence_infile=fasta_filepath, \n",
    "                                   fasta_outdir=join(FINAL, 'BRENDA_for_paper'))\n",
    "\n",
    "# make mcs\n",
    "seqsample.align_all_clusters(folder_path=join(FINAL, 'BRENDA_for_paper'))"
   ]
  }
 ],
 "metadata": {
  "kernelspec": {
   "display_name": "Python 3",
   "language": "python",
   "name": "python3"
  },
  "language_info": {
   "codemirror_mode": {
    "name": "ipython",
    "version": 3
   },
   "file_extension": ".py",
   "mimetype": "text/x-python",
   "name": "python",
   "nbconvert_exporter": "python",
   "pygments_lexer": "ipython3",
   "version": "3.7.1"
  }
 },
 "nbformat": 4,
 "nbformat_minor": 2
}

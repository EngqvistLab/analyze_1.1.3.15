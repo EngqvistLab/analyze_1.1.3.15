{
 "cells": [
  {
   "cell_type": "markdown",
   "metadata": {},
   "source": [
    "This notebook is for plotting alignments of the 1.1.3.15 data.<br/><br/>Copyright (C) 2019  Martin Engqvist Lab<br/>This program is free software: you can redistribute it and/or modify<br/>it under the terms of the GNU General Public License as published by<br/>the Free Software Foundation, either version 3 of the License, or<br/>(at your option) any later version.<br/>This program is distributed in the hope that it will be useful,<br/>but WITHOUT ANY WARRANTY; without even the implied warranty of<br/>MERCHANTABILITY or FITNESS FOR A PARTICULAR PURPOSE.  See the<br/>GNU General Public License for more details.<br/>You should have received a copy of the GNU General Public License<br/>along with this program.  If not, see <http://www.gnu.org/licenses/>."
   ]
  },
  {
   "cell_type": "code",
   "execution_count": 13,
   "metadata": {},
   "outputs": [
    {
     "name": "stdout",
     "output_type": "stream",
     "text": [
      "Standard variables loaded, you are good to go!\n"
     ]
    }
   ],
   "source": [
    "import os\n",
    "from dotenv import load_dotenv, find_dotenv\n",
    "from os.path import join, dirname, basename, exists, isdir\n",
    "\n",
    "### Load environmental variables from the project root directory ###\n",
    "# find .env automagically by walking up directories until it's found\n",
    "dotenv_path = find_dotenv()\n",
    "\n",
    "# load up the entries as environment variables\n",
    "load_dotenv(dotenv_path)\n",
    "\n",
    "# now you can get the variables using their names\n",
    "\n",
    "# Check whether a network drive has been specified\n",
    "DATABASE = os.environ.get(\"NETWORK_URL\")\n",
    "if DATABASE == 'None':\n",
    "    pass\n",
    "else:\n",
    "    pass\n",
    "    #mount network drive here\n",
    "\n",
    "# set up directory paths\n",
    "CURRENT_DIR = os.getcwd()\n",
    "PROJ = dirname(dotenv_path) # project root directory\n",
    "\n",
    "DATA = join(PROJ, 'data') #data directory\n",
    "RAW_EXTERNAL = join(DATA, 'raw_external') # external data raw directory\n",
    "RAW_INTERNAL = join(DATA, 'raw_internal') # internal data raw directory\n",
    "INTERMEDIATE = join(DATA, 'intermediate') # intermediate data directory\n",
    "FINAL = join(DATA, 'final') # final data directory\n",
    "\n",
    "RESULTS = join(PROJ, 'results') # output directory\n",
    "FIGURES = join(RESULTS, 'figures') # figure output directory\n",
    "PICTURES = join(RESULTS, 'pictures') # picture output directory\n",
    "\n",
    "\n",
    "# make folders specific for certain data\n",
    "folder_name = 'alignment_vis_data'\n",
    "if folder_name != '':\n",
    "#     #make folders if they don't exist\n",
    "#     if not exists(join(RAW_EXTERNAL, folder_name)):\n",
    "#         os.makedirs(join(RAW_EXTERNAL, folder_name))\n",
    "\n",
    "#     if not exists(join(INTERMEDIATE, folder_name)):\n",
    "#         os.makedirs(join(INTERMEDIATE, folder_name))\n",
    "\n",
    "    if not exists(join(FINAL, folder_name)):\n",
    "        os.makedirs(join(FINAL, folder_name))\n",
    "\n",
    "print('Standard variables loaded, you are good to go!')"
   ]
  },
  {
   "cell_type": "code",
   "execution_count": 10,
   "metadata": {},
   "outputs": [],
   "source": [
    "from Bio import SeqIO\n",
    "import vislib"
   ]
  },
  {
   "cell_type": "code",
   "execution_count": 26,
   "metadata": {},
   "outputs": [],
   "source": [
    "def load_fasta(filepath, id_list):\n",
    "    '''\n",
    "    Take a fasta file and return the sequences specified.\n",
    "    '''\n",
    "    data = {}\n",
    "    for record in SeqIO.parse(filepath, format='fasta'):\n",
    "        header, seq = record.description, record.seq\n",
    "        \n",
    "        for uid in id_list:\n",
    "            if uid in header:\n",
    "                data[uid] = seq\n",
    "                break\n",
    "    return data\n",
    "\n",
    "\n",
    "def load_aln_fasta(filepath):\n",
    "    '''\n",
    "    Load all sequences in an alignemnt fasta file\n",
    "    '''\n",
    "    data = {}\n",
    "    for record in SeqIO.parse(filepath, format='fasta'):\n",
    "        header, seq = record.description, record.seq\n",
    "        data[header] = seq\n",
    "\n",
    "    return data    "
   ]
  },
  {
   "cell_type": "markdown",
   "metadata": {},
   "source": [
    "#### First visualize the gree 2-hydroxyglutarate cluster"
   ]
  },
  {
   "cell_type": "code",
   "execution_count": 39,
   "metadata": {},
   "outputs": [],
   "source": [
    "group = ['A0A0K2AU21', 'S2DJ52', 'A0A0U6K8E5', 'R0EVG9', 'A0A021XIZ9', 'B7N6P4', 'A0A0J1FVG5', 'A0A0U5JSS4', 'A0A0L6Z980', 'A0A0R3K2G2', 'A0A0D6I3R9', 'A0A0J6V898', 'A0A0N7HBH8']\n",
    "#group_activity = ['inactive', 'active', 'active', 'active', 'inactive', 'active', 'inactive', 'inactive', 'inactive', 'inactive', 'inactive', 'inactive', 'inactive']\n",
    "group_activity = ['left', 'left', 'left', 'left', 'left', 'left', 'mid', 'mid', 'mid', 'right', 'right', 'right', 'right']\n",
    "group_grouping = {k:v for k,v in zip(group, group_activity)}\n",
    "\n",
    "# now get the sequences\n",
    "filepath = join(INTERMEDIATE, 'BRENDA', '1_1_3_15_BRENDA_sequences_filtered.fasta')\n",
    "group_seqs = load_fasta(filepath, group)\n",
    "\n",
    "# save as a separate fasta file\n",
    "fasta_filepath = join(FINAL, 'alignment_vis_data', '%s.fasta' % 'green_2HG_cluster')\n",
    "with open(fasta_filepath, 'w') as f:\n",
    "    for uid in group:\n",
    "        f.write('>%s\\n%s\\n' % (uid, group_seqs[uid]))\n",
    "\n",
    "# align them \n",
    "aln_filepath = join(FINAL, 'alignment_vis_data', '%s_aln.fasta' % 'green_2HG_cluster')\n",
    "infile = fasta_filepath\n",
    "outfile = aln_filepath\n",
    "mycmd = 'muscle -in %s -out %s -quiet' % (infile, outfile)\n",
    "os.system(mycmd)\n",
    "\n",
    "# load up the alignment\n",
    "aln_data = load_aln_fasta(aln_filepath)\n",
    "\n",
    "# now make the visualization\n",
    "x = vislib.alignment(data=aln_data, \n",
    "                 filepath=join(FIGURES, 'green_2HG_cluster_aln.svg'), \n",
    "                 main='green_2HG_cluster', \n",
    "                 group_dict=group_grouping, \n",
    "                 group_colors=None, \n",
    "                 text_color='#424242')"
   ]
  },
  {
   "cell_type": "markdown",
   "metadata": {},
   "source": [
    "#### Now visualize the blue cluster with some specific and some promiscuous"
   ]
  },
  {
   "cell_type": "code",
   "execution_count": 41,
   "metadata": {},
   "outputs": [],
   "source": [
    "group = ['U2ENB5', 'A0A085FLP7', 'A0A073CBY9', 'Q5WFZ3', 'A0A0P7Z009', 'A0A0P7WDX3', 'K4LGZ0', 'M7MTF7', 'M4KHX7', 'F9UTP6', 'B9NTK7', 'V6AP96', 'Q5WIP4', 'A0A087RXW1', 'K0NHF1', 'D4MUV9', 'D4N087', 'A0A077SBA9', 'D4XIR1']\n",
    "#group_activity = ['inactive', 'inactive', 'inactive', 'inactive', 'inactive', 'inactive', 'inactive', 'inactive', 'inactive', 'inactive', 'inactive', 'inactive', 'active', 'active', 'inactive', 'active', 'active', 'active', 'active']\n",
    "group_activity = ['left', 'left', 'left', 'left', 'left', 'left', 'left', 'left', 'mid', 'mid', 'right', 'right', 'right', 'right', 'right', 'right', 'right', 'right', 'right']\n",
    "group_grouping = {k:v for k,v in zip(group, group_activity)}\n",
    "\n",
    "# now get the sequences\n",
    "filepath = join(INTERMEDIATE, 'BRENDA', '1_1_3_15_BRENDA_sequences_filtered.fasta')\n",
    "group_seqs = load_fasta(filepath, group)\n",
    "\n",
    "# save as a separate fasta file\n",
    "fasta_filepath = join(FINAL, 'alignment_vis_data', '%s.fasta' % 'blue_cluster')\n",
    "with open(fasta_filepath, 'w') as f:\n",
    "    for uid in group:\n",
    "        f.write('>%s\\n%s\\n' % (uid, group_seqs[uid]))\n",
    "\n",
    "# align them \n",
    "aln_filepath = join(FINAL, 'alignment_vis_data', '%s_aln.fasta' % 'blue_cluster')\n",
    "infile = fasta_filepath\n",
    "outfile = aln_filepath\n",
    "mycmd = 'muscle -in %s -out %s -quiet' % (infile, outfile)\n",
    "os.system(mycmd)\n",
    "\n",
    "# load up the alignment\n",
    "aln_data = load_aln_fasta(aln_filepath)\n",
    "\n",
    "# now make the visualization\n",
    "x = vislib.alignment(data=aln_data, \n",
    "                 filepath=join(FIGURES, 'blue_cluster_aln.svg'), \n",
    "                 main='blue_cluster', \n",
    "                 group_dict=group_grouping, \n",
    "                 group_colors=None, \n",
    "                 text_color='#424242')"
   ]
  }
 ],
 "metadata": {
  "kernelspec": {
   "display_name": "Python 3",
   "language": "python",
   "name": "python3"
  },
  "language_info": {
   "codemirror_mode": {
    "name": "ipython",
    "version": 3
   },
   "file_extension": ".py",
   "mimetype": "text/x-python",
   "name": "python",
   "nbconvert_exporter": "python",
   "pygments_lexer": "ipython3",
   "version": "3.7.1"
  }
 },
 "nbformat": 4,
 "nbformat_minor": 2
}

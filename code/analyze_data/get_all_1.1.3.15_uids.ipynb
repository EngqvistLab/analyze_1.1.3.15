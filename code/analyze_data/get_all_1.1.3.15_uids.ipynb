{
 "cells": [
  {
   "cell_type": "markdown",
   "metadata": {},
   "source": [
    "This notebook is extracts all uniprot identifiers from the 1.1.3.15 BRENDA html page.<br/><br/>Copyright (C) 2017  Martin Engqvist Lab<br/>This program is free software: you can redistribute it and/or modify<br/>it under the terms of the GNU General Public License as published by<br/>the Free Software Foundation, either version 3 of the License, or<br/>(at your option) any later version.<br/>This program is distributed in the hope that it will be useful,<br/>but WITHOUT ANY WARRANTY; without even the implied warranty of<br/>MERCHANTABILITY or FITNESS FOR A PARTICULAR PURPOSE.  See the<br/>GNU General Public License for more details.<br/>You should have received a copy of the GNU General Public License<br/>along with this program.  If not, see <http://www.gnu.org/licenses/>."
   ]
  },
  {
   "cell_type": "code",
   "execution_count": 1,
   "metadata": {},
   "outputs": [
    {
     "name": "stdout",
     "output_type": "stream",
     "text": [
      "Standard variables loaded, you are good to go!\n"
     ]
    }
   ],
   "source": [
    "import os\n",
    "from dotenv import load_dotenv, find_dotenv\n",
    "from os.path import join, dirname, basename, exists, isdir\n",
    "\n",
    "### Load environmental variables from the project root directory ###\n",
    "# find .env automagically by walking up directories until it's found\n",
    "dotenv_path = find_dotenv()\n",
    "\n",
    "# load up the entries as environment variables\n",
    "load_dotenv(dotenv_path)\n",
    "\n",
    "# now you can get the variables using their names\n",
    "\n",
    "# Check whether a network drive has been specified\n",
    "DATABASE = os.environ.get(\"NETWORK_URL\")\n",
    "if DATABASE == 'None':\n",
    "    pass\n",
    "else:\n",
    "    pass\n",
    "    #mount network drive here\n",
    "\n",
    "# set up directory paths\n",
    "CURRENT_DIR = os.getcwd()\n",
    "PROJ = dirname(dotenv_path) # project root directory\n",
    "\n",
    "DATA = join(PROJ, 'data') #data directory\n",
    "RAW_EXTERNAL = join(DATA, 'raw_external') # external data raw directory\n",
    "RAW_INTERNAL = join(DATA, 'raw_internal') # internal data raw directory\n",
    "INTERMEDIATE = join(DATA, 'intermediate') # intermediate data directory\n",
    "FINAL = join(DATA, 'final') # final data directory\n",
    "\n",
    "RESULTS = join(PROJ, 'results') # output directory\n",
    "FIGURES = join(RESULTS, 'figures') # figure output directory\n",
    "PICTURES = join(RESULTS, 'pictures') # picture output directory\n",
    "\n",
    "\n",
    "# make folders specific for certain data\n",
    "folder_name = 'similarity_data'\n",
    "if folder_name != '':\n",
    "#     #make folders if they don't exist\n",
    "#     if not exists(join(RAW_EXTERNAL, folder_name)):\n",
    "#         os.makedirs(join(RAW_EXTERNAL, folder_name))\n",
    "\n",
    "#     if not exists(join(INTERMEDIATE, folder_name)):\n",
    "#         os.makedirs(join(INTERMEDIATE, folder_name))\n",
    "\n",
    "    if not exists(join(FINAL, folder_name)):\n",
    "        os.makedirs(join(FINAL, folder_name))\n",
    "\n",
    "print('Standard variables loaded, you are good to go!')"
   ]
  },
  {
   "cell_type": "code",
   "execution_count": 2,
   "metadata": {},
   "outputs": [
    {
     "data": {
      "text/plain": [
       "['P05414',\n",
       " 'K2V617',\n",
       " 'Q10CE4',\n",
       " 'Q56ZN0',\n",
       " 'Q19U05',\n",
       " 'A9QH69',\n",
       " 'A9QH71',\n",
       " 'Q5SM78',\n",
       " 'Q24JJ8',\n",
       " 'Q9NYQ3',\n",
       " 'Q07523',\n",
       " 'Q9LRR9',\n",
       " 'Q9NYQ2',\n",
       " 'B7FUG8',\n",
       " 'Q9UJM8',\n",
       " 'Q9WU19',\n",
       " 'Q9LJH5',\n",
       " 'Q9CG58']"
      ]
     },
     "execution_count": 2,
     "metadata": {},
     "output_type": "execute_result"
    }
   ],
   "source": [
    "import re \n",
    "\n",
    "def get_all_uniprot_id():\n",
    "    '''Use regex to get all the uniprot identifiers. Intended as an alternate method that does not depend on parsing the html.'''\n",
    "\n",
    "    #read the html page\n",
    "    filepath = join(RAW_EXTERNAL, 'BRENDA', '1.1.3.15.html')\n",
    "    with open(filepath, 'r') as f:\n",
    "        document = f.read()\n",
    "\n",
    "    #http://www.uniprot.org/help/accession_numbers\n",
    "    m = re.findall('([OPQ][0-9](?:[A-Z0-9]){3}[0-9])|([A-NR-Z][0-9](?:[A-Z][A-Z0-9]{2}[0-9]){1,2})', document)\n",
    "\n",
    "    uids = set([])\n",
    "    for result in m:\n",
    "        for uid in result:\n",
    "            if uid == '':\n",
    "                continue\n",
    "                \n",
    "            uids.add(uid)\n",
    "    return list(uids)\n",
    "    \n",
    "\n",
    "data = get_all_uniprot_id()\n",
    "    \n",
    "data"
   ]
  }
 ],
 "metadata": {
  "kernelspec": {
   "display_name": "Python 3",
   "language": "python",
   "name": "python3"
  },
  "language_info": {
   "codemirror_mode": {
    "name": "ipython",
    "version": 3
   },
   "file_extension": ".py",
   "mimetype": "text/x-python",
   "name": "python",
   "nbconvert_exporter": "python",
   "pygments_lexer": "ipython3",
   "version": "3.7.1"
  }
 },
 "nbformat": 4,
 "nbformat_minor": 2
}

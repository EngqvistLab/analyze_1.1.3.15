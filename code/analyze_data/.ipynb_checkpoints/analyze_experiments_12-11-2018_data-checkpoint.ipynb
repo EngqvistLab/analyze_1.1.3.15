{
 "cells": [
  {
   "cell_type": "code",
   "execution_count": 1,
   "metadata": {},
   "outputs": [],
   "source": [
    "\n",
    "import os\n",
    "from dotenv import load_dotenv, find_dotenv # do 'pip install python-dotenv'\n",
    "from os.path import join, dirname, basename, exists, isdir\n",
    "import pandas as pd\n",
    "import matplotlib.pyplot as plt\n",
    "import numpy as np\n",
    "\n",
    "\n",
    "### Load environmental variables from the project root directory ###\n",
    "# find .env automagically by walking up directories until it's found\n",
    "dotenv_path = find_dotenv()\n",
    "\n",
    "# load up the entries as environment variables\n",
    "load_dotenv(dotenv_path)\n",
    "\n",
    "# now you can get the variables using their names\n",
    "\n",
    "# Check whether a network drive has been specified\n",
    "DATABASE = os.environ.get(\"NETWORK_URL\")\n",
    "if DATABASE == 'None':\n",
    "\tpass\n",
    "else:\n",
    "\tpass\n",
    "\t#mount network drive here\n",
    "\n",
    "# set up directory paths\n",
    "CURRENT_DIR = os.getcwd()\n",
    "PROJ = dirname(dotenv_path) # project root directory\n",
    "\n",
    "DATA = join(PROJ, 'data') #data directory\n",
    "RAW_EXTERNAL = join(DATA, 'raw_external') # external data raw directory\n",
    "RAW_INTERNAL = join(DATA, 'raw_internal') # internal data raw directory\n",
    "INTERMEDIATE = join(DATA, 'intermediate') # intermediate data directory\n",
    "FINAL = join(DATA, 'final') # final data directory\n",
    "\n",
    "RESULTS = join(PROJ, 'results') # output directory\n",
    "FIGURES = join(RESULTS, 'figures') # figure output directory\n",
    "PICTURES = join(RESULTS, 'pictures') # picture output directory\n"
   ]
  },
  {
   "cell_type": "markdown",
   "metadata": {},
   "source": [
    "Load the three datasets"
   ]
  },
  {
   "cell_type": "code",
   "execution_count": 2,
   "metadata": {},
   "outputs": [
    {
     "data": {
      "text/html": [
       "<div>\n",
       "<style scoped>\n",
       "    .dataframe tbody tr th:only-of-type {\n",
       "        vertical-align: middle;\n",
       "    }\n",
       "\n",
       "    .dataframe tbody tr th {\n",
       "        vertical-align: top;\n",
       "    }\n",
       "\n",
       "    .dataframe thead th {\n",
       "        text-align: right;\n",
       "    }\n",
       "</style>\n",
       "<table border=\"1\" class=\"dataframe\">\n",
       "  <thead>\n",
       "    <tr style=\"text-align: right;\">\n",
       "      <th></th>\n",
       "      <th>uid</th>\n",
       "      <th>synthesized</th>\n",
       "      <th>substrate_available</th>\n",
       "      <th>soluble</th>\n",
       "      <th>active</th>\n",
       "    </tr>\n",
       "  </thead>\n",
       "  <tbody>\n",
       "    <tr>\n",
       "      <th>0</th>\n",
       "      <td>A0A009NBJ7</td>\n",
       "      <td>True</td>\n",
       "      <td>True</td>\n",
       "      <td>False</td>\n",
       "      <td>NaN</td>\n",
       "    </tr>\n",
       "    <tr>\n",
       "      <th>1</th>\n",
       "      <td>A0A011R8E6</td>\n",
       "      <td>True</td>\n",
       "      <td>True</td>\n",
       "      <td>False</td>\n",
       "      <td>NaN</td>\n",
       "    </tr>\n",
       "    <tr>\n",
       "      <th>2</th>\n",
       "      <td>A0A017H745</td>\n",
       "      <td>True</td>\n",
       "      <td>True</td>\n",
       "      <td>False</td>\n",
       "      <td>NaN</td>\n",
       "    </tr>\n",
       "    <tr>\n",
       "      <th>3</th>\n",
       "      <td>A0A024H7W1</td>\n",
       "      <td>True</td>\n",
       "      <td>True</td>\n",
       "      <td>True</td>\n",
       "      <td>True</td>\n",
       "    </tr>\n",
       "    <tr>\n",
       "      <th>4</th>\n",
       "      <td>A0A073CBY9</td>\n",
       "      <td>True</td>\n",
       "      <td>True</td>\n",
       "      <td>True</td>\n",
       "      <td>True</td>\n",
       "    </tr>\n",
       "  </tbody>\n",
       "</table>\n",
       "</div>"
      ],
      "text/plain": [
       "          uid  synthesized substrate_available soluble active\n",
       "0  A0A009NBJ7         True                True   False    NaN\n",
       "1  A0A011R8E6         True                True   False    NaN\n",
       "2  A0A017H745         True                True   False    NaN\n",
       "3  A0A024H7W1         True                True    True   True\n",
       "4  A0A073CBY9         True                True    True   True"
      ]
     },
     "execution_count": 2,
     "metadata": {},
     "output_type": "execute_result"
    }
   ],
   "source": [
    "\n",
    "def integrate_experiments(row, col1_name, col2_name):\n",
    "    '''\n",
    "    Function to combine the results of the two repetitions \n",
    "    '''\n",
    "    if row[col1_name] is True or row[col2_name] is True:\n",
    "        return True\n",
    "\n",
    "    elif row[col1_name] is False or row[col2_name] is False:\n",
    "        return False\n",
    "    \n",
    "    elif pd.isna(row[col1_name]) and pd.isna(row[col2_name]):\n",
    "        return np.nan\n",
    "\n",
    "    else:\n",
    "        raise ValueError\n",
    "\n",
    "\n",
    "        \n",
    "# get the experimental data\n",
    "experiments_df = pd.read_csv(join(FINAL, 'experiments', '1.1.3.n_lysate_assay_summary_12.11.2018.tsv'), sep='\\t')\n",
    "\n",
    "\n",
    "# integrate the solubility results\n",
    "experiments_df['soluble'] = experiments_df.apply(lambda row: integrate_experiments(row, col1_name='rep0_soluble', col2_name='rep1_soluble'), axis=1)\n",
    "\n",
    "# integrate the activity results\n",
    "experiments_df['active'] = experiments_df.apply(lambda row: integrate_experiments(row, col1_name='rep0_active', col2_name='rep1_active'), axis=1)\n",
    "\n",
    "\n",
    "# make a subset\n",
    "experiments_df = experiments_df.loc[:, ['node', 'synthesized', 'substrate_available', 'soluble', 'active']]\n",
    "\n",
    "# rename the \"node\" to \"uid\"\n",
    "colnames = list(experiments_df.columns)\n",
    "colnames[0] = 'uid'\n",
    "experiments_df.columns = colnames\n",
    "\n",
    "experiments_df.head()\n"
   ]
  },
  {
   "cell_type": "code",
   "execution_count": 3,
   "metadata": {},
   "outputs": [
    {
     "data": {
      "text/html": [
       "<div>\n",
       "<style scoped>\n",
       "    .dataframe tbody tr th:only-of-type {\n",
       "        vertical-align: middle;\n",
       "    }\n",
       "\n",
       "    .dataframe tbody tr th {\n",
       "        vertical-align: top;\n",
       "    }\n",
       "\n",
       "    .dataframe thead th {\n",
       "        text-align: right;\n",
       "    }\n",
       "</style>\n",
       "<table border=\"1\" class=\"dataframe\">\n",
       "  <thead>\n",
       "    <tr style=\"text-align: right;\">\n",
       "      <th></th>\n",
       "      <th>uid</th>\n",
       "      <th>taxid</th>\n",
       "      <th>organism</th>\n",
       "      <th>superkingdom</th>\n",
       "      <th>ph</th>\n",
       "      <th>temperature</th>\n",
       "      <th>pfam</th>\n",
       "      <th>lineage_identifiers</th>\n",
       "      <th>lineage_ranks</th>\n",
       "      <th>lineage_names</th>\n",
       "    </tr>\n",
       "  </thead>\n",
       "  <tbody>\n",
       "    <tr>\n",
       "      <th>0</th>\n",
       "      <td>B7N6P4</td>\n",
       "      <td>585056</td>\n",
       "      <td>Escherichia coli</td>\n",
       "      <td>Bacteria</td>\n",
       "      <td>7.01</td>\n",
       "      <td>36.0</td>\n",
       "      <td>PF01266</td>\n",
       "      <td>1, 131567, 2, 1224, 1236, 91347, 543, 561, 562...</td>\n",
       "      <td>root, no rank, superkingdom, phylum, class, or...</td>\n",
       "      <td>root, cellular organisms, Bacteria, Proteobact...</td>\n",
       "    </tr>\n",
       "    <tr>\n",
       "      <th>1</th>\n",
       "      <td>A0A0M7LBC1</td>\n",
       "      <td>134375</td>\n",
       "      <td>Achromobacter sp.</td>\n",
       "      <td>Bacteria</td>\n",
       "      <td>7.10</td>\n",
       "      <td>28.0</td>\n",
       "      <td>PF01266</td>\n",
       "      <td>1, 131567, 2, 1224, 28216, 80840, 506, 222, 13...</td>\n",
       "      <td>root, no rank, superkingdom, phylum, class, or...</td>\n",
       "      <td>root, cellular organisms, Bacteria, Proteobact...</td>\n",
       "    </tr>\n",
       "    <tr>\n",
       "      <th>2</th>\n",
       "      <td>A0A0U5XJG3</td>\n",
       "      <td>615</td>\n",
       "      <td>Serratia marcescens</td>\n",
       "      <td>Bacteria</td>\n",
       "      <td>7.07</td>\n",
       "      <td>29.0</td>\n",
       "      <td>NaN</td>\n",
       "      <td>1, 131567, 2, 1224, 1236, 91347, 1903411, 613,...</td>\n",
       "      <td>root, no rank, superkingdom, phylum, class, or...</td>\n",
       "      <td>root, cellular organisms, Bacteria, Proteobact...</td>\n",
       "    </tr>\n",
       "    <tr>\n",
       "      <th>3</th>\n",
       "      <td>Q6MTY6</td>\n",
       "      <td>272632</td>\n",
       "      <td>Mycoplasma mycoides</td>\n",
       "      <td>Bacteria</td>\n",
       "      <td>NaN</td>\n",
       "      <td>37.0</td>\n",
       "      <td>PF01266</td>\n",
       "      <td>1, 131567, 2, 1783272, 544448, 31969, 2085, 20...</td>\n",
       "      <td>root, no rank, superkingdom, no rank, phylum, ...</td>\n",
       "      <td>root, cellular organisms, Bacteria, Terrabacte...</td>\n",
       "    </tr>\n",
       "    <tr>\n",
       "      <th>4</th>\n",
       "      <td>A0A090SES2</td>\n",
       "      <td>990271</td>\n",
       "      <td>Vibrio variabilis</td>\n",
       "      <td>Bacteria</td>\n",
       "      <td>7.60</td>\n",
       "      <td>28.0</td>\n",
       "      <td>PF01266</td>\n",
       "      <td>1, 131567, 2, 1224, 1236, 135623, 641, 662, 99...</td>\n",
       "      <td>root, no rank, superkingdom, phylum, class, or...</td>\n",
       "      <td>root, cellular organisms, Bacteria, Proteobact...</td>\n",
       "    </tr>\n",
       "  </tbody>\n",
       "</table>\n",
       "</div>"
      ],
      "text/plain": [
       "          uid   taxid             organism superkingdom    ph  temperature  \\\n",
       "0      B7N6P4  585056     Escherichia coli     Bacteria  7.01         36.0   \n",
       "1  A0A0M7LBC1  134375    Achromobacter sp.     Bacteria  7.10         28.0   \n",
       "2  A0A0U5XJG3     615  Serratia marcescens     Bacteria  7.07         29.0   \n",
       "3      Q6MTY6  272632  Mycoplasma mycoides     Bacteria   NaN         37.0   \n",
       "4  A0A090SES2  990271    Vibrio variabilis     Bacteria  7.60         28.0   \n",
       "\n",
       "      pfam                                lineage_identifiers  \\\n",
       "0  PF01266  1, 131567, 2, 1224, 1236, 91347, 543, 561, 562...   \n",
       "1  PF01266  1, 131567, 2, 1224, 28216, 80840, 506, 222, 13...   \n",
       "2      NaN  1, 131567, 2, 1224, 1236, 91347, 1903411, 613,...   \n",
       "3  PF01266  1, 131567, 2, 1783272, 544448, 31969, 2085, 20...   \n",
       "4  PF01266  1, 131567, 2, 1224, 1236, 135623, 641, 662, 99...   \n",
       "\n",
       "                                       lineage_ranks  \\\n",
       "0  root, no rank, superkingdom, phylum, class, or...   \n",
       "1  root, no rank, superkingdom, phylum, class, or...   \n",
       "2  root, no rank, superkingdom, phylum, class, or...   \n",
       "3  root, no rank, superkingdom, no rank, phylum, ...   \n",
       "4  root, no rank, superkingdom, phylum, class, or...   \n",
       "\n",
       "                                       lineage_names  \n",
       "0  root, cellular organisms, Bacteria, Proteobact...  \n",
       "1  root, cellular organisms, Bacteria, Proteobact...  \n",
       "2  root, cellular organisms, Bacteria, Proteobact...  \n",
       "3  root, cellular organisms, Bacteria, Terrabacte...  \n",
       "4  root, cellular organisms, Bacteria, Proteobact...  "
      ]
     },
     "execution_count": 3,
     "metadata": {},
     "output_type": "execute_result"
    }
   ],
   "source": [
    "# get the ph/temp/phylogeny data \n",
    "identifiers_df = pd.read_csv(join(FINAL, 'sequence_properties', 'uid_data.tsv'), sep='\\t')\n",
    "\n",
    "identifiers_df.head()"
   ]
  },
  {
   "cell_type": "code",
   "execution_count": 4,
   "metadata": {},
   "outputs": [
    {
     "data": {
      "text/html": [
       "<div>\n",
       "<style scoped>\n",
       "    .dataframe tbody tr th:only-of-type {\n",
       "        vertical-align: middle;\n",
       "    }\n",
       "\n",
       "    .dataframe tbody tr th {\n",
       "        vertical-align: top;\n",
       "    }\n",
       "\n",
       "    .dataframe thead th {\n",
       "        text-align: right;\n",
       "    }\n",
       "</style>\n",
       "<table border=\"1\" class=\"dataframe\">\n",
       "  <thead>\n",
       "    <tr style=\"text-align: right;\">\n",
       "      <th></th>\n",
       "      <th>uid</th>\n",
       "      <th>ec</th>\n",
       "    </tr>\n",
       "  </thead>\n",
       "  <tbody>\n",
       "    <tr>\n",
       "      <th>0</th>\n",
       "      <td>Q8J2V8</td>\n",
       "      <td>1.1.3.10</td>\n",
       "    </tr>\n",
       "    <tr>\n",
       "      <th>1</th>\n",
       "      <td>J7LQA3</td>\n",
       "      <td>1.1.3.10</td>\n",
       "    </tr>\n",
       "    <tr>\n",
       "      <th>2</th>\n",
       "      <td>I4EXQ4</td>\n",
       "      <td>1.1.3.10</td>\n",
       "    </tr>\n",
       "    <tr>\n",
       "      <th>3</th>\n",
       "      <td>Q0RGV3</td>\n",
       "      <td>1.1.3.10</td>\n",
       "    </tr>\n",
       "    <tr>\n",
       "      <th>4</th>\n",
       "      <td>I4EXS6</td>\n",
       "      <td>1.1.3.10</td>\n",
       "    </tr>\n",
       "  </tbody>\n",
       "</table>\n",
       "</div>"
      ],
      "text/plain": [
       "      uid        ec\n",
       "0  Q8J2V8  1.1.3.10\n",
       "1  J7LQA3  1.1.3.10\n",
       "2  I4EXQ4  1.1.3.10\n",
       "3  Q0RGV3  1.1.3.10\n",
       "4  I4EXS6  1.1.3.10"
      ]
     },
     "execution_count": 4,
     "metadata": {},
     "output_type": "execute_result"
    }
   ],
   "source": [
    "# get uid to ec mapping\n",
    "uid_ec_mapping_df = pd.read_csv(join(FINAL, 'sequence_properties', 'ec_uid_org_from_fasta.tsv'), sep='\\t')\n",
    "\n",
    "uid_ec_mapping_df.head()"
   ]
  },
  {
   "cell_type": "markdown",
   "metadata": {},
   "source": [
    "Now I have the data, time two join the data frames on uid identifier"
   ]
  },
  {
   "cell_type": "code",
   "execution_count": 5,
   "metadata": {},
   "outputs": [
    {
     "data": {
      "text/html": [
       "<div>\n",
       "<style scoped>\n",
       "    .dataframe tbody tr th:only-of-type {\n",
       "        vertical-align: middle;\n",
       "    }\n",
       "\n",
       "    .dataframe tbody tr th {\n",
       "        vertical-align: top;\n",
       "    }\n",
       "\n",
       "    .dataframe thead th {\n",
       "        text-align: right;\n",
       "    }\n",
       "</style>\n",
       "<table border=\"1\" class=\"dataframe\">\n",
       "  <thead>\n",
       "    <tr style=\"text-align: right;\">\n",
       "      <th></th>\n",
       "      <th>uid</th>\n",
       "      <th>ec</th>\n",
       "      <th>taxid</th>\n",
       "      <th>organism</th>\n",
       "      <th>superkingdom</th>\n",
       "      <th>ph</th>\n",
       "      <th>temperature</th>\n",
       "      <th>pfam</th>\n",
       "      <th>lineage_identifiers</th>\n",
       "      <th>lineage_ranks</th>\n",
       "      <th>lineage_names</th>\n",
       "      <th>synthesized</th>\n",
       "      <th>substrate_available</th>\n",
       "      <th>soluble</th>\n",
       "      <th>active</th>\n",
       "    </tr>\n",
       "  </thead>\n",
       "  <tbody>\n",
       "    <tr>\n",
       "      <th>0</th>\n",
       "      <td>Q8J2V8</td>\n",
       "      <td>1.1.3.10</td>\n",
       "      <td>40145</td>\n",
       "      <td>Tricholoma matsutake</td>\n",
       "      <td>Eukaryota</td>\n",
       "      <td>6.05</td>\n",
       "      <td>23.0</td>\n",
       "      <td>NaN</td>\n",
       "      <td>1, 131567, 2759, 33154, 4751, 451864, 5204, 53...</td>\n",
       "      <td>root, no rank, superkingdom, no rank, kingdom,...</td>\n",
       "      <td>root, cellular organisms, Eukaryota, Opisthoko...</td>\n",
       "      <td>False</td>\n",
       "      <td>NaN</td>\n",
       "      <td>NaN</td>\n",
       "      <td>NaN</td>\n",
       "    </tr>\n",
       "    <tr>\n",
       "      <th>1</th>\n",
       "      <td>I4EXQ4</td>\n",
       "      <td>1.1.3.10</td>\n",
       "      <td>477641</td>\n",
       "      <td>Modestobacter marinus</td>\n",
       "      <td>Bacteria</td>\n",
       "      <td>7.20</td>\n",
       "      <td>28.0</td>\n",
       "      <td>PF00732, PF05199</td>\n",
       "      <td>1, 131567, 2, 1783272, 201174, 1760, 1643682, ...</td>\n",
       "      <td>root, no rank, superkingdom, no rank, phylum, ...</td>\n",
       "      <td>root, cellular organisms, Bacteria, Terrabacte...</td>\n",
       "      <td>True</td>\n",
       "      <td>True</td>\n",
       "      <td>False</td>\n",
       "      <td>NaN</td>\n",
       "    </tr>\n",
       "    <tr>\n",
       "      <th>2</th>\n",
       "      <td>J7LVS7</td>\n",
       "      <td>1.1.3.10</td>\n",
       "      <td>1118963</td>\n",
       "      <td>Arthrobacter sp.</td>\n",
       "      <td>Bacteria</td>\n",
       "      <td>7.15</td>\n",
       "      <td>29.0</td>\n",
       "      <td>PF00732, PF05199</td>\n",
       "      <td>1, 131567, 2, 1783272, 201174, 1760, 85006, 12...</td>\n",
       "      <td>root, no rank, superkingdom, no rank, phylum, ...</td>\n",
       "      <td>root, cellular organisms, Bacteria, Terrabacte...</td>\n",
       "      <td>True</td>\n",
       "      <td>True</td>\n",
       "      <td>False</td>\n",
       "      <td>NaN</td>\n",
       "    </tr>\n",
       "    <tr>\n",
       "      <th>3</th>\n",
       "      <td>A0A0I9NPR5</td>\n",
       "      <td>1.1.3.10</td>\n",
       "      <td>573</td>\n",
       "      <td>Klebsiella pneumoniae</td>\n",
       "      <td>Bacteria</td>\n",
       "      <td>7.07</td>\n",
       "      <td>34.0</td>\n",
       "      <td>NaN</td>\n",
       "      <td>1, 131567, 2, 1224, 1236, 91347, 543, 570, 573</td>\n",
       "      <td>root, no rank, superkingdom, phylum, class, or...</td>\n",
       "      <td>root, cellular organisms, Bacteria, Proteobact...</td>\n",
       "      <td>True</td>\n",
       "      <td>True</td>\n",
       "      <td>False</td>\n",
       "      <td>NaN</td>\n",
       "    </tr>\n",
       "    <tr>\n",
       "      <th>4</th>\n",
       "      <td>G4HXT0</td>\n",
       "      <td>1.1.3.10</td>\n",
       "      <td>931627</td>\n",
       "      <td>Mycolicibacterium rhodesiae</td>\n",
       "      <td>Bacteria</td>\n",
       "      <td>NaN</td>\n",
       "      <td>NaN</td>\n",
       "      <td>PF01266, PF05199</td>\n",
       "      <td>1, 131567, 2, 1783272, 201174, 1760, 85007, 17...</td>\n",
       "      <td>root, no rank, superkingdom, no rank, phylum, ...</td>\n",
       "      <td>root, cellular organisms, Bacteria, Terrabacte...</td>\n",
       "      <td>True</td>\n",
       "      <td>True</td>\n",
       "      <td>False</td>\n",
       "      <td>NaN</td>\n",
       "    </tr>\n",
       "  </tbody>\n",
       "</table>\n",
       "</div>"
      ],
      "text/plain": [
       "          uid        ec    taxid                     organism superkingdom  \\\n",
       "0      Q8J2V8  1.1.3.10    40145         Tricholoma matsutake    Eukaryota   \n",
       "1      I4EXQ4  1.1.3.10   477641        Modestobacter marinus     Bacteria   \n",
       "2      J7LVS7  1.1.3.10  1118963             Arthrobacter sp.     Bacteria   \n",
       "3  A0A0I9NPR5  1.1.3.10      573        Klebsiella pneumoniae     Bacteria   \n",
       "4      G4HXT0  1.1.3.10   931627  Mycolicibacterium rhodesiae     Bacteria   \n",
       "\n",
       "     ph  temperature              pfam  \\\n",
       "0  6.05         23.0               NaN   \n",
       "1  7.20         28.0  PF00732, PF05199   \n",
       "2  7.15         29.0  PF00732, PF05199   \n",
       "3  7.07         34.0               NaN   \n",
       "4   NaN          NaN  PF01266, PF05199   \n",
       "\n",
       "                                 lineage_identifiers  \\\n",
       "0  1, 131567, 2759, 33154, 4751, 451864, 5204, 53...   \n",
       "1  1, 131567, 2, 1783272, 201174, 1760, 1643682, ...   \n",
       "2  1, 131567, 2, 1783272, 201174, 1760, 85006, 12...   \n",
       "3     1, 131567, 2, 1224, 1236, 91347, 543, 570, 573   \n",
       "4  1, 131567, 2, 1783272, 201174, 1760, 85007, 17...   \n",
       "\n",
       "                                       lineage_ranks  \\\n",
       "0  root, no rank, superkingdom, no rank, kingdom,...   \n",
       "1  root, no rank, superkingdom, no rank, phylum, ...   \n",
       "2  root, no rank, superkingdom, no rank, phylum, ...   \n",
       "3  root, no rank, superkingdom, phylum, class, or...   \n",
       "4  root, no rank, superkingdom, no rank, phylum, ...   \n",
       "\n",
       "                                       lineage_names  synthesized  \\\n",
       "0  root, cellular organisms, Eukaryota, Opisthoko...        False   \n",
       "1  root, cellular organisms, Bacteria, Terrabacte...         True   \n",
       "2  root, cellular organisms, Bacteria, Terrabacte...         True   \n",
       "3  root, cellular organisms, Bacteria, Proteobact...         True   \n",
       "4  root, cellular organisms, Bacteria, Terrabacte...         True   \n",
       "\n",
       "  substrate_available soluble active  \n",
       "0                 NaN     NaN    NaN  \n",
       "1                True   False    NaN  \n",
       "2                True   False    NaN  \n",
       "3                True   False    NaN  \n",
       "4                True   False    NaN  "
      ]
     },
     "execution_count": 5,
     "metadata": {},
     "output_type": "execute_result"
    }
   ],
   "source": [
    "two_data_df = pd.merge(uid_ec_mapping_df, identifiers_df, on=['uid'])\n",
    "\n",
    "all_data_df = pd.merge(two_data_df, experiments_df, on=['uid'])\n",
    "\n",
    "all_data_df.head()\n"
   ]
  },
  {
   "cell_type": "markdown",
   "metadata": {},
   "source": [
    "#### Ok, now it's all there, time to start to do some plotting."
   ]
  },
  {
   "cell_type": "code",
   "execution_count": 6,
   "metadata": {},
   "outputs": [],
   "source": [
    "# Setup matplotlib parameters\n",
    "\n",
    "font = {'family' : 'normal',\n",
    "        'weight' : 'normal',\n",
    "        'size'   : 14}\n",
    "\n",
    "plt.rc('font', **font)\n"
   ]
  },
  {
   "cell_type": "markdown",
   "metadata": {},
   "source": [
    "**Breakdown of what we ordered, archaea vs bacteria vs eukaryotes**"
   ]
  },
  {
   "cell_type": "code",
   "execution_count": 7,
   "metadata": {},
   "outputs": [
    {
     "data": {
      "text/html": [
       "<div>\n",
       "<style scoped>\n",
       "    .dataframe tbody tr th:only-of-type {\n",
       "        vertical-align: middle;\n",
       "    }\n",
       "\n",
       "    .dataframe tbody tr th {\n",
       "        vertical-align: top;\n",
       "    }\n",
       "\n",
       "    .dataframe thead th {\n",
       "        text-align: right;\n",
       "    }\n",
       "</style>\n",
       "<table border=\"1\" class=\"dataframe\">\n",
       "  <thead>\n",
       "    <tr style=\"text-align: right;\">\n",
       "      <th></th>\n",
       "      <th>uid</th>\n",
       "      <th>superkingdom</th>\n",
       "    </tr>\n",
       "  </thead>\n",
       "  <tbody>\n",
       "    <tr>\n",
       "      <th>0</th>\n",
       "      <td>Q8J2V8</td>\n",
       "      <td>Eukaryota</td>\n",
       "    </tr>\n",
       "    <tr>\n",
       "      <th>1</th>\n",
       "      <td>I4EXQ4</td>\n",
       "      <td>Bacteria</td>\n",
       "    </tr>\n",
       "    <tr>\n",
       "      <th>2</th>\n",
       "      <td>J7LVS7</td>\n",
       "      <td>Bacteria</td>\n",
       "    </tr>\n",
       "    <tr>\n",
       "      <th>3</th>\n",
       "      <td>A0A0I9NPR5</td>\n",
       "      <td>Bacteria</td>\n",
       "    </tr>\n",
       "    <tr>\n",
       "      <th>4</th>\n",
       "      <td>G4HXT0</td>\n",
       "      <td>Bacteria</td>\n",
       "    </tr>\n",
       "  </tbody>\n",
       "</table>\n",
       "</div>"
      ],
      "text/plain": [
       "          uid superkingdom\n",
       "0      Q8J2V8    Eukaryota\n",
       "1      I4EXQ4     Bacteria\n",
       "2      J7LVS7     Bacteria\n",
       "3  A0A0I9NPR5     Bacteria\n",
       "4      G4HXT0     Bacteria"
      ]
     },
     "execution_count": 7,
     "metadata": {},
     "output_type": "execute_result"
    }
   ],
   "source": [
    "# Make the dataset\n",
    "\n",
    "order_df = all_data_df.loc[:, ['uid', 'superkingdom']]\n",
    "order_df = order_df.drop_duplicates()\n",
    "\n",
    "order_df.head()"
   ]
  },
  {
   "cell_type": "code",
   "execution_count": 8,
   "metadata": {},
   "outputs": [
    {
     "name": "stdout",
     "output_type": "stream",
     "text": [
      "superkingdom\n",
      "Archaea        7\n",
      "Bacteria     144\n",
      "Eukaryota     33\n",
      "Name: uid, dtype: int64\n"
     ]
    },
    {
     "data": {
      "text/plain": [
       "(array([0, 1, 2]), <a list of 3 Text xticklabel objects>)"
      ]
     },
     "execution_count": 8,
     "metadata": {},
     "output_type": "execute_result"
    },
    {
     "name": "stderr",
     "output_type": "stream",
     "text": [
      "/home/martin/.conda/envs/py36/lib/python3.6/site-packages/matplotlib/font_manager.py:1331: UserWarning: findfont: Font family ['normal'] not found. Falling back to DejaVu Sans\n",
      "  (prop.get_family(), self.defaultFamily[fontext]))\n"
     ]
    },
    {
     "data": {
      "image/png": "[encoded data removed]",
      "text/plain": [
       "<Figure size 432x288 with 1 Axes>"
      ]
     },
     "metadata": {
      "needs_background": "light"
     },
     "output_type": "display_data"
    }
   ],
   "source": [
    "# Plot it\n",
    "\n",
    "result = order_df.groupby('superkingdom')['uid'].nunique()\n",
    "\n",
    "print(result)\n",
    "\n",
    "p = result.plot(kind=\"bar\", title='Origin of sequences')\n",
    "p.set_xlabel(\"Superkingdom\")\n",
    "p.set_ylabel(\"Count (#)\")\n",
    "plt.xticks(rotation=45)\n"
   ]
  },
  {
   "cell_type": "markdown",
   "metadata": {},
   "source": [
    "**What's the distribution of growth temperatures in this dataset**\n"
   ]
  },
  {
   "cell_type": "code",
   "execution_count": 9,
   "metadata": {},
   "outputs": [
    {
     "data": {
      "text/html": [
       "<div>\n",
       "<style scoped>\n",
       "    .dataframe tbody tr th:only-of-type {\n",
       "        vertical-align: middle;\n",
       "    }\n",
       "\n",
       "    .dataframe tbody tr th {\n",
       "        vertical-align: top;\n",
       "    }\n",
       "\n",
       "    .dataframe thead th {\n",
       "        text-align: right;\n",
       "    }\n",
       "</style>\n",
       "<table border=\"1\" class=\"dataframe\">\n",
       "  <thead>\n",
       "    <tr style=\"text-align: right;\">\n",
       "      <th>superkingdom</th>\n",
       "      <th>Archaea</th>\n",
       "      <th>Bacteria</th>\n",
       "      <th>Eukaryota</th>\n",
       "    </tr>\n",
       "  </thead>\n",
       "  <tbody>\n",
       "    <tr>\n",
       "      <th>0</th>\n",
       "      <td>NaN</td>\n",
       "      <td>NaN</td>\n",
       "      <td>23.0</td>\n",
       "    </tr>\n",
       "    <tr>\n",
       "      <th>1</th>\n",
       "      <td>NaN</td>\n",
       "      <td>28.0</td>\n",
       "      <td>NaN</td>\n",
       "    </tr>\n",
       "    <tr>\n",
       "      <th>2</th>\n",
       "      <td>NaN</td>\n",
       "      <td>29.0</td>\n",
       "      <td>NaN</td>\n",
       "    </tr>\n",
       "    <tr>\n",
       "      <th>3</th>\n",
       "      <td>NaN</td>\n",
       "      <td>34.0</td>\n",
       "      <td>NaN</td>\n",
       "    </tr>\n",
       "    <tr>\n",
       "      <th>4</th>\n",
       "      <td>NaN</td>\n",
       "      <td>NaN</td>\n",
       "      <td>NaN</td>\n",
       "    </tr>\n",
       "  </tbody>\n",
       "</table>\n",
       "</div>"
      ],
      "text/plain": [
       "superkingdom  Archaea  Bacteria  Eukaryota\n",
       "0                 NaN       NaN       23.0\n",
       "1                 NaN      28.0        NaN\n",
       "2                 NaN      29.0        NaN\n",
       "3                 NaN      34.0        NaN\n",
       "4                 NaN       NaN        NaN"
      ]
     },
     "execution_count": 9,
     "metadata": {},
     "output_type": "execute_result"
    }
   ],
   "source": [
    "# Make the dataset\n",
    "\n",
    "temp_df = all_data_df.loc[:, ['superkingdom', 'temperature']]\n",
    "\n",
    "\n",
    "# change to wide so I can get the superkingdom information in there\n",
    "temp_df_wide = temp_df.pivot(columns='superkingdom',\n",
    "           values='temperature')\n",
    "\n",
    "temp_df_wide.head()"
   ]
  },
  {
   "cell_type": "code",
   "execution_count": 10,
   "metadata": {},
   "outputs": [
    {
     "data": {
      "text/plain": [
       "<matplotlib.legend.Legend at 0x7f17d578d5c0>"
      ]
     },
     "execution_count": 10,
     "metadata": {},
     "output_type": "execute_result"
    },
    {
     "data": {
      "image/png": "[encoded data removed]",
      "text/plain": [
       "<Figure size 432x288 with 1 Axes>"
      ]
     },
     "metadata": {
      "needs_background": "light"
     },
     "output_type": "display_data"
    }
   ],
   "source": [
    "# Plot for how many I actually have the temperature\n",
    "temp_df['temperature'].isna().sum() \n",
    "\n",
    "\n",
    "\n",
    "\n",
    "temp_df['temperature'].count() + temp_df['temperature'].isna().sum() \n",
    "\n",
    "\n",
    "\n",
    "known = temp_df['temperature'].count()\n",
    "unknown = temp_df['temperature'].isna().sum()\n",
    "\n",
    "p1 = plt.bar(0, (known), width=0.25, align='center')\n",
    "p2 = plt.bar(0, (unknown), width=0.25, align='center', bottom=known)\n",
    "\n",
    "\n",
    "plt.ylabel('Count(#)')\n",
    "plt.title('Organism growth temperatures')\n",
    "plt.xticks([0], ('All sequences', ))\n",
    "plt.legend((p1[0], p2[0]), ('Known', 'Unknown'), loc='center left', bbox_to_anchor=(1.0, 0.5))\n",
    "\n"
   ]
  },
  {
   "cell_type": "code",
   "execution_count": 11,
   "metadata": {},
   "outputs": [
    {
     "data": {
      "text/plain": [
       "<matplotlib.legend.Legend at 0x7f17d577a470>"
      ]
     },
     "execution_count": 11,
     "metadata": {},
     "output_type": "execute_result"
    },
    {
     "data": {
      "image/png": "[encoded data removed]",
      "text/plain": [
       "<Figure size 432x288 with 1 Axes>"
      ]
     },
     "metadata": {
      "needs_background": "light"
     },
     "output_type": "display_data"
    }
   ],
   "source": [
    "# Plot it\n",
    "\n",
    "p = temp_df_wide.plot(kind='hist', title='Sequence distribution over temperature', bins=20, stacked=True)\n",
    "p.set_xlabel(\"Growth temperature (C)\")\n",
    "plt.legend(loc='center left', bbox_to_anchor=(1.0, 0.5))"
   ]
  },
  {
   "cell_type": "markdown",
   "metadata": {},
   "source": [
    "**What's the distribution of pH values in this dataset**"
   ]
  },
  {
   "cell_type": "code",
   "execution_count": 12,
   "metadata": {},
   "outputs": [
    {
     "data": {
      "text/html": [
       "<div>\n",
       "<style scoped>\n",
       "    .dataframe tbody tr th:only-of-type {\n",
       "        vertical-align: middle;\n",
       "    }\n",
       "\n",
       "    .dataframe tbody tr th {\n",
       "        vertical-align: top;\n",
       "    }\n",
       "\n",
       "    .dataframe thead th {\n",
       "        text-align: right;\n",
       "    }\n",
       "</style>\n",
       "<table border=\"1\" class=\"dataframe\">\n",
       "  <thead>\n",
       "    <tr style=\"text-align: right;\">\n",
       "      <th>superkingdom</th>\n",
       "      <th>Archaea</th>\n",
       "      <th>Bacteria</th>\n",
       "      <th>Eukaryota</th>\n",
       "    </tr>\n",
       "  </thead>\n",
       "  <tbody>\n",
       "    <tr>\n",
       "      <th>0</th>\n",
       "      <td>NaN</td>\n",
       "      <td>NaN</td>\n",
       "      <td>6.05</td>\n",
       "    </tr>\n",
       "    <tr>\n",
       "      <th>1</th>\n",
       "      <td>NaN</td>\n",
       "      <td>7.20</td>\n",
       "      <td>NaN</td>\n",
       "    </tr>\n",
       "    <tr>\n",
       "      <th>2</th>\n",
       "      <td>NaN</td>\n",
       "      <td>7.15</td>\n",
       "      <td>NaN</td>\n",
       "    </tr>\n",
       "    <tr>\n",
       "      <th>3</th>\n",
       "      <td>NaN</td>\n",
       "      <td>7.07</td>\n",
       "      <td>NaN</td>\n",
       "    </tr>\n",
       "    <tr>\n",
       "      <th>4</th>\n",
       "      <td>NaN</td>\n",
       "      <td>NaN</td>\n",
       "      <td>NaN</td>\n",
       "    </tr>\n",
       "  </tbody>\n",
       "</table>\n",
       "</div>"
      ],
      "text/plain": [
       "superkingdom  Archaea  Bacteria  Eukaryota\n",
       "0                 NaN       NaN       6.05\n",
       "1                 NaN      7.20        NaN\n",
       "2                 NaN      7.15        NaN\n",
       "3                 NaN      7.07        NaN\n",
       "4                 NaN       NaN        NaN"
      ]
     },
     "execution_count": 12,
     "metadata": {},
     "output_type": "execute_result"
    }
   ],
   "source": [
    "# Make the dataset\n",
    "\n",
    "ph_df = all_data_df.loc[:, ['superkingdom', 'ph']]\n",
    "\n",
    "# change to wide so I can get the superkingdom information in there\n",
    "ph_df_wide = ph_df.pivot(columns='superkingdom',\n",
    "           values='ph')\n",
    "\n",
    "ph_df_wide.head()"
   ]
  },
  {
   "cell_type": "code",
   "execution_count": 13,
   "metadata": {},
   "outputs": [
    {
     "data": {
      "text/plain": [
       "<matplotlib.legend.Legend at 0x7f17d5661da0>"
      ]
     },
     "execution_count": 13,
     "metadata": {},
     "output_type": "execute_result"
    },
    {
     "data": {
      "image/png": "[encoded data removed]",
      "text/plain": [
       "<Figure size 432x288 with 1 Axes>"
      ]
     },
     "metadata": {
      "needs_background": "light"
     },
     "output_type": "display_data"
    }
   ],
   "source": [
    "# Plot for how many I actually have the temperature\n",
    "ph_df['ph'].isna().sum() \n",
    "\n",
    "\n",
    "\n",
    "\n",
    "ph_df['ph'].count() + ph_df['ph'].isna().sum() \n",
    "\n",
    "\n",
    "\n",
    "known = ph_df['ph'].count()\n",
    "unknown = ph_df['ph'].isna().sum()\n",
    "\n",
    "p1 = plt.bar(0, (known), width=0.25, align='center')\n",
    "p2 = plt.bar(0, (unknown), width=0.25, align='center', bottom=known)\n",
    "\n",
    "\n",
    "plt.ylabel('Count(#)')\n",
    "plt.title('Organism growth pH')\n",
    "plt.xticks([0], ('All sequences', ))\n",
    "plt.legend((p1[0], p2[0]), ('Known', 'Unknown'), loc='center left', bbox_to_anchor=(1.0, 0.5))\n",
    "\n"
   ]
  },
  {
   "cell_type": "code",
   "execution_count": 14,
   "metadata": {},
   "outputs": [
    {
     "data": {
      "text/plain": [
       "Text(0.5,0,'Growth pH')"
      ]
     },
     "execution_count": 14,
     "metadata": {},
     "output_type": "execute_result"
    },
    {
     "data": {
      "image/png": "[encoded data removed]",
      "text/plain": [
       "<Figure size 432x288 with 1 Axes>"
      ]
     },
     "metadata": {
      "needs_background": "light"
     },
     "output_type": "display_data"
    }
   ],
   "source": [
    "# Plot it\n",
    "\n",
    "p = ph_df_wide.plot(kind='hist', title='Organism distribution over pH', bins=20, stacked=True)\n",
    "p.set_xlabel(\"Growth pH\")"
   ]
  },
  {
   "cell_type": "markdown",
   "metadata": {},
   "source": [
    "**What about the distribution between ec numbers?**"
   ]
  },
  {
   "cell_type": "code",
   "execution_count": 15,
   "metadata": {},
   "outputs": [
    {
     "data": {
      "text/html": [
       "<div>\n",
       "<style scoped>\n",
       "    .dataframe tbody tr th:only-of-type {\n",
       "        vertical-align: middle;\n",
       "    }\n",
       "\n",
       "    .dataframe tbody tr th {\n",
       "        vertical-align: top;\n",
       "    }\n",
       "\n",
       "    .dataframe thead th {\n",
       "        text-align: right;\n",
       "    }\n",
       "</style>\n",
       "<table border=\"1\" class=\"dataframe\">\n",
       "  <thead>\n",
       "    <tr style=\"text-align: right;\">\n",
       "      <th></th>\n",
       "      <th>uid</th>\n",
       "      <th>ec</th>\n",
       "      <th>superkingdom</th>\n",
       "    </tr>\n",
       "  </thead>\n",
       "  <tbody>\n",
       "    <tr>\n",
       "      <th>0</th>\n",
       "      <td>Q8J2V8</td>\n",
       "      <td>1.1.3.10</td>\n",
       "      <td>Eukaryota</td>\n",
       "    </tr>\n",
       "    <tr>\n",
       "      <th>1</th>\n",
       "      <td>I4EXQ4</td>\n",
       "      <td>1.1.3.10</td>\n",
       "      <td>Bacteria</td>\n",
       "    </tr>\n",
       "    <tr>\n",
       "      <th>2</th>\n",
       "      <td>J7LVS7</td>\n",
       "      <td>1.1.3.10</td>\n",
       "      <td>Bacteria</td>\n",
       "    </tr>\n",
       "    <tr>\n",
       "      <th>3</th>\n",
       "      <td>A0A0I9NPR5</td>\n",
       "      <td>1.1.3.10</td>\n",
       "      <td>Bacteria</td>\n",
       "    </tr>\n",
       "    <tr>\n",
       "      <th>4</th>\n",
       "      <td>G4HXT0</td>\n",
       "      <td>1.1.3.10</td>\n",
       "      <td>Bacteria</td>\n",
       "    </tr>\n",
       "  </tbody>\n",
       "</table>\n",
       "</div>"
      ],
      "text/plain": [
       "          uid        ec superkingdom\n",
       "0      Q8J2V8  1.1.3.10    Eukaryota\n",
       "1      I4EXQ4  1.1.3.10     Bacteria\n",
       "2      J7LVS7  1.1.3.10     Bacteria\n",
       "3  A0A0I9NPR5  1.1.3.10     Bacteria\n",
       "4      G4HXT0  1.1.3.10     Bacteria"
      ]
     },
     "execution_count": 15,
     "metadata": {},
     "output_type": "execute_result"
    }
   ],
   "source": [
    "# Make the dataset\n",
    "enzyme_df = all_data_df.loc[:, ['uid', 'ec', 'superkingdom']]\n",
    "enzyme_df = enzyme_df.drop_duplicates()\n",
    "\n",
    "enzyme_df.head()"
   ]
  },
  {
   "cell_type": "markdown",
   "metadata": {},
   "source": [
    "**Assemble a dataset to look at solubility and activity**\n"
   ]
  },
  {
   "cell_type": "code",
   "execution_count": 16,
   "metadata": {},
   "outputs": [
    {
     "data": {
      "text/html": [
       "<div>\n",
       "<style scoped>\n",
       "    .dataframe tbody tr th:only-of-type {\n",
       "        vertical-align: middle;\n",
       "    }\n",
       "\n",
       "    .dataframe tbody tr th {\n",
       "        vertical-align: top;\n",
       "    }\n",
       "\n",
       "    .dataframe thead th {\n",
       "        text-align: right;\n",
       "    }\n",
       "</style>\n",
       "<table border=\"1\" class=\"dataframe\">\n",
       "  <thead>\n",
       "    <tr style=\"text-align: right;\">\n",
       "      <th></th>\n",
       "      <th>uid</th>\n",
       "      <th>ec</th>\n",
       "      <th>superkingdom</th>\n",
       "      <th>synthesized</th>\n",
       "      <th>soluble</th>\n",
       "      <th>active</th>\n",
       "    </tr>\n",
       "  </thead>\n",
       "  <tbody>\n",
       "    <tr>\n",
       "      <th>0</th>\n",
       "      <td>Q8J2V8</td>\n",
       "      <td>1.1.3.10</td>\n",
       "      <td>Eukaryota</td>\n",
       "      <td>Not_synthesized</td>\n",
       "      <td>Untested</td>\n",
       "      <td>Untested</td>\n",
       "    </tr>\n",
       "    <tr>\n",
       "      <th>1</th>\n",
       "      <td>I4EXQ4</td>\n",
       "      <td>1.1.3.10</td>\n",
       "      <td>Bacteria</td>\n",
       "      <td>Synthesized</td>\n",
       "      <td>Insoluble</td>\n",
       "      <td>Untested</td>\n",
       "    </tr>\n",
       "    <tr>\n",
       "      <th>2</th>\n",
       "      <td>J7LVS7</td>\n",
       "      <td>1.1.3.10</td>\n",
       "      <td>Bacteria</td>\n",
       "      <td>Synthesized</td>\n",
       "      <td>Insoluble</td>\n",
       "      <td>Untested</td>\n",
       "    </tr>\n",
       "    <tr>\n",
       "      <th>3</th>\n",
       "      <td>A0A0I9NPR5</td>\n",
       "      <td>1.1.3.10</td>\n",
       "      <td>Bacteria</td>\n",
       "      <td>Synthesized</td>\n",
       "      <td>Insoluble</td>\n",
       "      <td>Untested</td>\n",
       "    </tr>\n",
       "    <tr>\n",
       "      <th>4</th>\n",
       "      <td>G4HXT0</td>\n",
       "      <td>1.1.3.10</td>\n",
       "      <td>Bacteria</td>\n",
       "      <td>Synthesized</td>\n",
       "      <td>Insoluble</td>\n",
       "      <td>Untested</td>\n",
       "    </tr>\n",
       "  </tbody>\n",
       "</table>\n",
       "</div>"
      ],
      "text/plain": [
       "          uid        ec superkingdom      synthesized    soluble    active\n",
       "0      Q8J2V8  1.1.3.10    Eukaryota  Not_synthesized   Untested  Untested\n",
       "1      I4EXQ4  1.1.3.10     Bacteria      Synthesized  Insoluble  Untested\n",
       "2      J7LVS7  1.1.3.10     Bacteria      Synthesized  Insoluble  Untested\n",
       "3  A0A0I9NPR5  1.1.3.10     Bacteria      Synthesized  Insoluble  Untested\n",
       "4      G4HXT0  1.1.3.10     Bacteria      Synthesized  Insoluble  Untested"
      ]
     },
     "execution_count": 16,
     "metadata": {},
     "output_type": "execute_result"
    }
   ],
   "source": [
    "# Make the dataset\n",
    "all_exp_df = all_data_df.loc[:, ['uid', 'ec', 'superkingdom', 'synthesized', 'soluble', 'active']]\n",
    "\n",
    "# replace the nan value, True and False\n",
    "all_exp_df = all_exp_df.fillna('Untested')\n",
    "\n",
    "all_exp_df['synthesized'] = all_exp_df['synthesized'].replace(False, 'Not_synthesized')\n",
    "all_exp_df['synthesized'] = all_exp_df['synthesized'].replace(True, 'Synthesized')\n",
    "\n",
    "all_exp_df['soluble'] = all_exp_df['soluble'].replace(False, 'Insoluble')\n",
    "all_exp_df['soluble'] = all_exp_df['soluble'].replace(True, 'Soluble')\n",
    "\n",
    "all_exp_df['active'] = all_exp_df['active'].replace(False, 'Inactive')\n",
    "all_exp_df['active'] = all_exp_df['active'].replace(True, 'Active')\n",
    "\n",
    "\n",
    "all_exp_df.head()"
   ]
  },
  {
   "cell_type": "markdown",
   "metadata": {},
   "source": [
    "**First look at vs insoluble protein**"
   ]
  },
  {
   "cell_type": "code",
   "execution_count": 17,
   "metadata": {},
   "outputs": [
    {
     "name": "stdout",
     "output_type": "stream",
     "text": [
      "synthesized\n",
      "Synthesized    183\n",
      "Name: uid, dtype: int64\n"
     ]
    },
    {
     "name": "stderr",
     "output_type": "stream",
     "text": [
      "/home/martin/.conda/envs/py36/lib/python3.6/site-packages/matplotlib/font_manager.py:1331: UserWarning: findfont: Font family ['normal'] not found. Falling back to DejaVu Sans\n",
      "  (prop.get_family(), self.defaultFamily[fontext]))\n"
     ]
    },
    {
     "data": {
      "image/png": "[encoded data removed]",
      "text/plain": [
       "<Figure size 432x288 with 1 Axes>"
      ]
     },
     "metadata": {
      "needs_background": "light"
     },
     "output_type": "display_data"
    }
   ],
   "source": [
    "# Plot it\n",
    "df_subset = all_exp_df.loc[all_exp_df['synthesized']=='Synthesized']\n",
    "result = df_subset.groupby('synthesized')['uid'].nunique()\n",
    "result.sort_values(ascending=False, inplace=True)\n",
    "\n",
    "print(result)\n",
    "\n",
    "p = result.plot(kind=\"bar\", title='Sequences in solubility test')\n",
    "p.set_xlabel(\"Category\")\n",
    "p.set_ylabel(\"Count (#)\")\n",
    "\n",
    "# save the index for downstream plots\n",
    "my_index = result.index"
   ]
  },
  {
   "cell_type": "code",
   "execution_count": 18,
   "metadata": {
    "scrolled": false
   },
   "outputs": [
    {
     "name": "stdout",
     "output_type": "stream",
     "text": [
      "soluble      Insoluble   Soluble  Untested\n",
      "synthesized                               \n",
      "Synthesized   0.553763  0.403226  0.043011\n"
     ]
    },
    {
     "data": {
      "text/plain": [
       "<matplotlib.legend.Legend at 0x7f17d54f22b0>"
      ]
     },
     "execution_count": 18,
     "metadata": {},
     "output_type": "execute_result"
    },
    {
     "data": {
      "image/png": "[encoded data removed]",
      "text/plain": [
       "<Figure size 432x288 with 1 Axes>"
      ]
     },
     "metadata": {
      "needs_background": "light"
     },
     "output_type": "display_data"
    }
   ],
   "source": [
    "# The same data as a fraction\n",
    "\n",
    "# calculate the fraction\n",
    "df_subset = all_exp_df.loc[all_exp_df['synthesized']=='Synthesized']\n",
    "result = df_subset.groupby('synthesized')['soluble'].value_counts(normalize=True)\n",
    "result = result.unstack().fillna(0)\n",
    "print(result)\n",
    "\n",
    "p = result.plot(kind=\"bar\", title='Enzyme solubility all data', stacked=True)\n",
    "p.set_xlabel(\"Category\")\n",
    "p.set_ylabel(\"Fraction in each category\")\n",
    "plt.legend(loc='center left', bbox_to_anchor=(1.0, 0.5))"
   ]
  },
  {
   "cell_type": "code",
   "execution_count": 19,
   "metadata": {},
   "outputs": [
    {
     "name": "stdout",
     "output_type": "stream",
     "text": [
      "soluble\n",
      "Insoluble    103\n",
      "Soluble       73\n",
      "Untested       7\n",
      "Name: uid, dtype: int64\n"
     ]
    },
    {
     "data": {
      "text/plain": [
       "Text(0,0.5,'Count (#)')"
      ]
     },
     "execution_count": 19,
     "metadata": {},
     "output_type": "execute_result"
    },
    {
     "data": {
      "image/png": "[encoded data removed]",
      "text/plain": [
       "<Figure size 432x288 with 1 Axes>"
      ]
     },
     "metadata": {
      "needs_background": "light"
     },
     "output_type": "display_data"
    }
   ],
   "source": [
    "# Plot it\n",
    "df_subset = all_exp_df.loc[all_exp_df['synthesized']=='Synthesized']\n",
    "result = df_subset.groupby('soluble')['uid'].nunique()\n",
    "\n",
    "result.sort_values(ascending=False, inplace=True)\n",
    "\n",
    "print(result)\n",
    "\n",
    "p = result.plot(kind=\"bar\", title='Protein solubility')\n",
    "p.set_xlabel(\"Category\")\n",
    "p.set_ylabel(\"Count (#)\")"
   ]
  },
  {
   "cell_type": "code",
   "execution_count": 20,
   "metadata": {},
   "outputs": [
    {
     "name": "stdout",
     "output_type": "stream",
     "text": [
      "superkingdom\n",
      "Archaea        7\n",
      "Bacteria     144\n",
      "Eukaryota     32\n",
      "Name: uid, dtype: int64\n"
     ]
    },
    {
     "data": {
      "image/png": "[encoded data removed]",
      "text/plain": [
       "<Figure size 432x288 with 1 Axes>"
      ]
     },
     "metadata": {
      "needs_background": "light"
     },
     "output_type": "display_data"
    }
   ],
   "source": [
    "# how many do we actually have in each of the categories\n",
    "df_subset = all_exp_df.loc[all_exp_df['synthesized']=='Synthesized']\n",
    "result = df_subset.groupby('superkingdom')['uid'].nunique()\n",
    "result = result.fillna(0)\n",
    "\n",
    "print(result)\n",
    "\n",
    "p = result.plot(kind=\"bar\", title='Sequences per superkingdom in solubility test', stacked=False)\n",
    "p.set_xlabel(\"Category\")\n",
    "p.set_ylabel(\"Count (#)\")\n",
    "\n",
    "# save the index for downstream plots\n",
    "my_index = result.index"
   ]
  },
  {
   "cell_type": "code",
   "execution_count": 21,
   "metadata": {},
   "outputs": [
    {
     "name": "stdout",
     "output_type": "stream",
     "text": [
      "soluble       Insoluble   Soluble  Untested\n",
      "superkingdom                               \n",
      "Archaea        0.428571  0.571429  0.000000\n",
      "Bacteria       0.530612  0.421769  0.047619\n",
      "Eukaryota      0.687500  0.281250  0.031250\n"
     ]
    },
    {
     "data": {
      "text/plain": [
       "<matplotlib.legend.Legend at 0x7f17d53249e8>"
      ]
     },
     "execution_count": 21,
     "metadata": {},
     "output_type": "execute_result"
    },
    {
     "data": {
      "image/png": "[encoded data removed]",
      "text/plain": [
       "<Figure size 432x288 with 1 Axes>"
      ]
     },
     "metadata": {
      "needs_background": "light"
     },
     "output_type": "display_data"
    }
   ],
   "source": [
    "# Active vs inactive for each superkingdom, as fraction\n",
    "\n",
    "# count calculate the fraction\n",
    "df_subset = all_exp_df.loc[all_exp_df['synthesized']=='Synthesized']\n",
    "result = df_subset.groupby('superkingdom')['soluble'].value_counts(normalize=True)\n",
    "result = result.unstack().fillna(0)\n",
    "\n",
    "# sort bast on previous index\n",
    "result = result.reindex(my_index)\n",
    "print(result)\n",
    "\n",
    "p = result.plot(kind=\"bar\", title='Solubility per superkingdom', stacked=True)\n",
    "p.set_xlabel(\"Activity\")\n",
    "p.set_ylabel(\"Fraction in each category\")\n",
    "plt.legend(loc='center left', bbox_to_anchor=(1.0, 0.5))"
   ]
  },
  {
   "cell_type": "code",
   "execution_count": 22,
   "metadata": {},
   "outputs": [
    {
     "name": "stdout",
     "output_type": "stream",
     "text": [
      "ec\n",
      "1.1.3.15    74\n",
      "1.1.3.8     21\n",
      "1.1.3.6     19\n",
      "1.1.3.21    14\n",
      "1.1.3.9      9\n",
      "1.1.3.41     7\n",
      "1.1.3.10     5\n",
      "1.1.3.43     4\n",
      "1.1.3.37     4\n",
      "1.1.3.20     4\n",
      "1.1.3.17     4\n",
      "1.1.3.13     4\n",
      "1.1.3.12     3\n",
      "1.1.3.4      2\n",
      "1.1.3.38     2\n",
      "1.1.3.7      2\n",
      "1.1.3.47     1\n",
      "1.1.3.45     1\n",
      "1.1.3.44     1\n",
      "1.1.3.42     1\n",
      "1.1.3.48     1\n",
      "1.1.3.5      1\n",
      "Name: uid, dtype: int64\n"
     ]
    },
    {
     "data": {
      "image/png": "[encoded data removed]",
      "text/plain": [
       "<Figure size 432x288 with 1 Axes>"
      ]
     },
     "metadata": {
      "needs_background": "light"
     },
     "output_type": "display_data"
    }
   ],
   "source": [
    "# Plot it\n",
    "df_subset = all_exp_df.loc[all_exp_df['synthesized']=='Synthesized']\n",
    "result = df_subset.groupby('ec')['uid'].nunique()\n",
    "\n",
    "result.sort_values(ascending=False, inplace=True)\n",
    "\n",
    "print(result)\n",
    "\n",
    "p = result.plot(kind=\"bar\", title='Sequences per EC number')\n",
    "p.set_xlabel(\"EC number\")\n",
    "p.set_ylabel(\"Count (#)\")\n",
    "\n",
    "# save the index for downstream plots\n",
    "my_index = result.index"
   ]
  },
  {
   "cell_type": "code",
   "execution_count": 23,
   "metadata": {},
   "outputs": [
    {
     "name": "stdout",
     "output_type": "stream",
     "text": [
      "soluble   Insoluble   Soluble  Untested\n",
      "ec                                     \n",
      "1.1.3.15   0.413333  0.586667       0.0\n",
      "1.1.3.8    0.714286  0.285714       0.0\n",
      "1.1.3.6    0.842105  0.157895       0.0\n",
      "1.1.3.21   0.500000  0.500000       0.0\n",
      "1.1.3.9    1.000000  0.000000       0.0\n",
      "1.1.3.41   0.571429  0.428571       0.0\n",
      "1.1.3.10   1.000000  0.000000       0.0\n",
      "1.1.3.43   0.000000  0.000000       1.0\n",
      "1.1.3.37   0.500000  0.500000       0.0\n",
      "1.1.3.20   1.000000  0.000000       0.0\n",
      "1.1.3.17   0.000000  1.000000       0.0\n",
      "1.1.3.13   0.600000  0.400000       0.0\n",
      "1.1.3.12   1.000000  0.000000       0.0\n",
      "1.1.3.4    1.000000  0.000000       0.0\n",
      "1.1.3.38   0.000000  1.000000       0.0\n",
      "1.1.3.7    0.500000  0.500000       0.0\n",
      "1.1.3.47   1.000000  0.000000       0.0\n",
      "1.1.3.45   0.000000  0.000000       1.0\n",
      "1.1.3.44   0.000000  0.000000       1.0\n",
      "1.1.3.42   0.000000  0.000000       1.0\n",
      "1.1.3.48   0.000000  0.000000       1.0\n",
      "1.1.3.5    0.000000  1.000000       0.0\n"
     ]
    },
    {
     "data": {
      "text/plain": [
       "<matplotlib.legend.Legend at 0x7f17d51c2a90>"
      ]
     },
     "execution_count": 23,
     "metadata": {},
     "output_type": "execute_result"
    },
    {
     "data": {
      "image/png": "[encoded data removed]",
      "text/plain": [
       "<Figure size 432x288 with 1 Axes>"
      ]
     },
     "metadata": {
      "needs_background": "light"
     },
     "output_type": "display_data"
    }
   ],
   "source": [
    "# Soluble vs insoluble for each EC, as a fracation\n",
    "\n",
    "# count calculate the fraction\n",
    "df_subset = all_exp_df.loc[all_exp_df['synthesized']=='Synthesized']\n",
    "result = df_subset.groupby('ec')['soluble'].value_counts(normalize=True)\n",
    "result = result.unstack().fillna(0)\n",
    "\n",
    "# sort bast on previous index\n",
    "result = result.reindex(my_index)\n",
    "print(result)\n",
    "\n",
    "p = result.plot(kind=\"bar\", title='Protein solubility', stacked=True)\n",
    "p.set_xlabel(\"Solubility\")\n",
    "p.set_ylabel(\"Fraction in each category\")\n",
    "plt.legend(loc='center left', bbox_to_anchor=(1.0, 0.5))\n"
   ]
  },
  {
   "cell_type": "markdown",
   "metadata": {},
   "source": [
    "**Now let's look at the activity of the soluble ones**\n"
   ]
  },
  {
   "cell_type": "code",
   "execution_count": 24,
   "metadata": {},
   "outputs": [
    {
     "name": "stdout",
     "output_type": "stream",
     "text": [
      "soluble\n",
      "Soluble    73\n",
      "Name: uid, dtype: int64\n"
     ]
    },
    {
     "data": {
      "text/plain": [
       "Text(0,0.5,'Count (#)')"
      ]
     },
     "execution_count": 24,
     "metadata": {},
     "output_type": "execute_result"
    },
    {
     "data": {
      "image/png": "[encoded data removed]",
      "text/plain": [
       "<Figure size 432x288 with 1 Axes>"
      ]
     },
     "metadata": {
      "needs_background": "light"
     },
     "output_type": "display_data"
    }
   ],
   "source": [
    "# Plot it\n",
    "df_subset = all_exp_df.loc[all_exp_df['soluble']=='Soluble']\n",
    "result = df_subset.groupby('soluble')['uid'].nunique()\n",
    "result.sort_values(ascending=False, inplace=True)\n",
    "\n",
    "print(result)\n",
    "\n",
    "p = result.plot(kind=\"bar\", title='Sequences in activity test')\n",
    "p.set_xlabel(\"Category\")\n",
    "p.set_ylabel(\"Count (#)\")\n"
   ]
  },
  {
   "cell_type": "code",
   "execution_count": 25,
   "metadata": {},
   "outputs": [
    {
     "name": "stdout",
     "output_type": "stream",
     "text": [
      "active     Active  Inactive\n",
      "soluble                    \n",
      "Soluble  0.626667  0.373333\n"
     ]
    },
    {
     "data": {
      "text/plain": [
       "<matplotlib.legend.Legend at 0x7f17d511bc88>"
      ]
     },
     "execution_count": 25,
     "metadata": {},
     "output_type": "execute_result"
    },
    {
     "data": {
      "image/png": "[encoded data removed]",
      "text/plain": [
       "<Figure size 432x288 with 1 Axes>"
      ]
     },
     "metadata": {
      "needs_background": "light"
     },
     "output_type": "display_data"
    }
   ],
   "source": [
    "# The same data as a fraction\n",
    "\n",
    "# count calculate the fraction\n",
    "df_subset = all_exp_df.loc[all_exp_df['soluble']=='Soluble']\n",
    "result = df_subset.groupby('soluble')['active'].value_counts(normalize=True)\n",
    "result = result.unstack().fillna(0)\n",
    "\n",
    "\n",
    "print(result)\n",
    "\n",
    "p = result.plot(kind=\"bar\", title='Enzyme activity all data', stacked=True)\n",
    "p.set_xlabel(\"Category\")\n",
    "p.set_ylabel(\"Fraction in each category\")\n",
    "plt.legend(loc='center left', bbox_to_anchor=(1.0, 0.5))"
   ]
  },
  {
   "cell_type": "code",
   "execution_count": 26,
   "metadata": {},
   "outputs": [
    {
     "name": "stdout",
     "output_type": "stream",
     "text": [
      "active\n",
      "Active      47\n",
      "Inactive    26\n",
      "Name: uid, dtype: int64\n"
     ]
    },
    {
     "data": {
      "text/plain": [
       "Text(0,0.5,'Count (#)')"
      ]
     },
     "execution_count": 26,
     "metadata": {},
     "output_type": "execute_result"
    },
    {
     "data": {
      "image/png": "[encoded data removed]",
      "text/plain": [
       "<Figure size 432x288 with 1 Axes>"
      ]
     },
     "metadata": {
      "needs_background": "light"
     },
     "output_type": "display_data"
    }
   ],
   "source": [
    "# Plot it\n",
    "df_subset = all_exp_df.loc[all_exp_df['soluble']=='Soluble']\n",
    "result = df_subset.groupby('active')['uid'].nunique()\n",
    "\n",
    "result.sort_values(ascending=False, inplace=True)\n",
    "\n",
    "print(result)\n",
    "\n",
    "p = result.plot(kind=\"bar\", title='Protein activity')\n",
    "p.set_xlabel(\"Category\")\n",
    "p.set_ylabel(\"Count (#)\")"
   ]
  },
  {
   "cell_type": "code",
   "execution_count": 27,
   "metadata": {},
   "outputs": [
    {
     "name": "stdout",
     "output_type": "stream",
     "text": [
      "superkingdom\n",
      "Archaea       4\n",
      "Bacteria     60\n",
      "Eukaryota     9\n",
      "Name: uid, dtype: int64\n"
     ]
    },
    {
     "data": {
      "image/png": "[encoded data removed]",
      "text/plain": [
       "<Figure size 432x288 with 1 Axes>"
      ]
     },
     "metadata": {
      "needs_background": "light"
     },
     "output_type": "display_data"
    }
   ],
   "source": [
    "# how many do we actually have in each of the categories\n",
    "df_subset = all_exp_df.loc[all_exp_df['soluble']=='Soluble']\n",
    "result = df_subset.groupby('superkingdom')['uid'].nunique()\n",
    "result = result.fillna(0)\n",
    "\n",
    "print(result)\n",
    "\n",
    "p = result.plot(kind=\"bar\", title='Sequences per superkingdom in activity test', stacked=False)\n",
    "p.set_xlabel(\"Category\")\n",
    "p.set_ylabel(\"Count (#)\")\n",
    "\n",
    "# save the index for downstream plots\n",
    "my_index = result.index"
   ]
  },
  {
   "cell_type": "code",
   "execution_count": 28,
   "metadata": {},
   "outputs": [
    {
     "name": "stdout",
     "output_type": "stream",
     "text": [
      "active          Active  Inactive\n",
      "superkingdom                    \n",
      "Archaea       0.500000  0.500000\n",
      "Bacteria      0.629032  0.370968\n",
      "Eukaryota     0.666667  0.333333\n"
     ]
    },
    {
     "data": {
      "text/plain": [
       "<matplotlib.legend.Legend at 0x7f17d547cb38>"
      ]
     },
     "execution_count": 28,
     "metadata": {},
     "output_type": "execute_result"
    },
    {
     "data": {
      "image/png": "[encoded data removed]",
      "text/plain": [
       "<Figure size 432x288 with 1 Axes>"
      ]
     },
     "metadata": {
      "needs_background": "light"
     },
     "output_type": "display_data"
    }
   ],
   "source": [
    "# Active vs inactive for each superkingdom, as fraction\n",
    "\n",
    "# count calculate the fraction\n",
    "df_subset = all_exp_df.loc[all_exp_df['soluble']=='Soluble']\n",
    "result = df_subset.groupby('superkingdom')['active'].value_counts(normalize=True)\n",
    "result = result.unstack().fillna(0)\n",
    "\n",
    "# sort bast on previous index\n",
    "result = result.reindex(my_index)\n",
    "print(result)\n",
    "\n",
    "p = result.plot(kind=\"bar\", title='Enzyme activity per superkingdom', stacked=True)\n",
    "p.set_xlabel(\"Activity\")\n",
    "p.set_ylabel(\"Fraction in each category\")\n",
    "plt.legend(loc='center left', bbox_to_anchor=(1.0, 0.5))"
   ]
  },
  {
   "cell_type": "code",
   "execution_count": 29,
   "metadata": {},
   "outputs": [
    {
     "name": "stdout",
     "output_type": "stream",
     "text": [
      "ec\n",
      "1.1.3.15    43\n",
      "1.1.3.21     7\n",
      "1.1.3.8      6\n",
      "1.1.3.17     4\n",
      "1.1.3.6      3\n",
      "1.1.3.41     3\n",
      "1.1.3.38     2\n",
      "1.1.3.37     2\n",
      "1.1.3.7      1\n",
      "1.1.3.5      1\n",
      "1.1.3.13     1\n",
      "Name: uid, dtype: int64\n"
     ]
    },
    {
     "data": {
      "image/png": "[encoded data removed]",
      "text/plain": [
       "<Figure size 432x288 with 1 Axes>"
      ]
     },
     "metadata": {
      "needs_background": "light"
     },
     "output_type": "display_data"
    }
   ],
   "source": [
    "# how many do we actually have in each of the categories\n",
    "df_subset = all_exp_df.loc[all_exp_df['soluble']=='Soluble']\n",
    "result = df_subset.groupby('ec')['uid'].nunique()\n",
    "result = result.fillna(0)\n",
    "result.sort_values(ascending=False, inplace=True)\n",
    "print(result)\n",
    "\n",
    "p = result.plot(kind=\"bar\", title='Sequences per EC in activity test', stacked=False)\n",
    "p.set_xlabel(\"Category\")\n",
    "p.set_ylabel(\"Count (#)\")\n",
    "\n",
    "# save the index for downstream plots\n",
    "my_index = result.index"
   ]
  },
  {
   "cell_type": "code",
   "execution_count": 30,
   "metadata": {},
   "outputs": [
    {
     "name": "stdout",
     "output_type": "stream",
     "text": [
      "active      Active  Inactive\n",
      "ec                          \n",
      "1.1.3.15  0.681818  0.318182\n",
      "1.1.3.21  0.714286  0.285714\n",
      "1.1.3.8   0.000000  1.000000\n",
      "1.1.3.17  0.750000  0.250000\n",
      "1.1.3.6   0.666667  0.333333\n",
      "1.1.3.41  1.000000  0.000000\n",
      "1.1.3.38  0.500000  0.500000\n",
      "1.1.3.37  0.500000  0.500000\n",
      "1.1.3.7   1.000000  0.000000\n",
      "1.1.3.5   1.000000  0.000000\n",
      "1.1.3.13  0.000000  1.000000\n"
     ]
    },
    {
     "data": {
      "text/plain": [
       "<matplotlib.legend.Legend at 0x7f17d4ff8710>"
      ]
     },
     "execution_count": 30,
     "metadata": {},
     "output_type": "execute_result"
    },
    {
     "data": {
      "image/png": "[encoded data removed]",
      "text/plain": [
       "<Figure size 432x288 with 1 Axes>"
      ]
     },
     "metadata": {
      "needs_background": "light"
     },
     "output_type": "display_data"
    }
   ],
   "source": [
    "# Active vs inactive for each ec, as fraction\n",
    "\n",
    "# count calculate the fraction\n",
    "df_subset = all_exp_df.loc[all_exp_df['soluble']=='Soluble']\n",
    "result = df_subset.groupby('ec')['active'].value_counts(normalize=True)\n",
    "result = result.unstack().fillna(0)\n",
    "\n",
    "# sort bast on previous index\n",
    "result = result.reindex(my_index)\n",
    "print(result)\n",
    "\n",
    "# make the plot\n",
    "p = result.plot(kind=\"bar\", title='Enzyme activity per EC', stacked=True)\n",
    "p.set_xlabel(\"Category\")\n",
    "p.set_ylabel(\"Fraction in each category\")\n",
    "plt.legend(loc='center left', bbox_to_anchor=(1.0, 0.5))\n"
   ]
  }
 ],
 "metadata": {
  "kernelspec": {
   "display_name": "Python 3",
   "language": "python",
   "name": "python3"
  },
  "language_info": {
   "codemirror_mode": {
    "name": "ipython",
    "version": 3
   },
   "file_extension": ".py",
   "mimetype": "text/x-python",
   "name": "python",
   "nbconvert_exporter": "python",
   "pygments_lexer": "ipython3",
   "version": "3.7.6"
  }
 },
 "nbformat": 4,
 "nbformat_minor": 2
}
